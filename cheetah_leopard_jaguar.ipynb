{
  "nbformat": 4,
  "nbformat_minor": 0,
  "metadata": {
    "colab": {
      "name": "cheetah_leopard_jaguar.ipynb",
      "version": "0.3.2",
      "provenance": [],
      "collapsed_sections": [],
      "include_colab_link": true
    },
    "kernelspec": {
      "name": "python3",
      "display_name": "Python 3"
    }
  },
  "cells": [
    {
      "cell_type": "markdown",
      "metadata": {
        "id": "view-in-github",
        "colab_type": "text"
      },
      "source": [
        "<a href=\"https://colab.research.google.com/github/shashank2806/cheetah-leopard-jaguar/blob/master/cheetah_leopard_jaguar.ipynb\" target=\"_parent\"><img src=\"https://colab.research.google.com/assets/colab-badge.svg\" alt=\"Open In Colab\"/></a>"
      ]
    },
    {
      "metadata": {
        "id": "Y4ElxMmVB_tV",
        "colab_type": "text"
      },
      "cell_type": "markdown",
      "source": [
        "# Cheetah, Leopard or Jaguar?\n",
        "\n",
        "In this notebook we will do Image Classisfiacion to identify cheetah, leopard, or jaguar. This notebook is inspired by lesson1 and lesson2 of third course by [fastai](https://www.fast.ai).\n",
        "\n",
        "We will use Deep-Learning to classify which has gave state of art results in Image classification in recent years.\n",
        "\n",
        "We will make our own dataset in this notebook using google images and use tranfer learning to get more accurate results with less dataset.\n",
        "\n",
        "The main difference between these images in slightly difference in pattern on  their body, and I hope machine learning model to learn to identify these patterns.\n",
        "\n",
        "We will use fastai library, whch is based on PyTorch for this project."
      ]
    },
    {
      "metadata": {
        "id": "_tf9KhOBHBb7",
        "colab_type": "code",
        "colab": {}
      },
      "cell_type": "code",
      "source": [
        ""
      ],
      "execution_count": 0,
      "outputs": []
    }
  ]
}